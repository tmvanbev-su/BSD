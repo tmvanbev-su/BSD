{
  "nbformat": 4,
  "nbformat_minor": 0,
  "metadata": {
    "colab": {
      "provenance": [],
      "collapsed_sections": [
        "u3fDEotrkr5A"
      ]
    },
    "kernelspec": {
      "name": "python3",
      "display_name": "Python 3"
    },
    "language_info": {
      "name": "python"
    },
    "accelerator": "GPU"
  },
  "cells": [
    {
      "cell_type": "markdown",
      "source": [
        "# Next Word Prediction w/ LSTM - [BSD Corpus](https://github.com/tsuruoka-lab/BSD) (English only)\n",
        "\n",
        "[![Open In Colab](https://colab.research.google.com/assets/colab-badge.svg)](https://colab.research.google.com/drive/1jihTIp3NQy58nkHPc6gf0yYIpW24KPxd?usp=sharing)"
      ],
      "metadata": {
        "id": "pFsCLi3Ojrq0"
      }
    },
    {
      "cell_type": "markdown",
      "source": [
        "## Data preparation"
      ],
      "metadata": {
        "id": "Of2Kr8R2jzMT"
      }
    },
    {
      "cell_type": "code",
      "source": [
        "## 1.\n",
        "\n",
        "import numpy as np\n",
        "import heapq\n",
        "import matplotlib.pyplot as plt\n",
        "from nltk.tokenize import RegexpTokenizer\n",
        "from nltk.tokenize import word_tokenize\n",
        "from keras.models import Sequential, load_model\n",
        "from keras.layers.core import Dense, Activation\n",
        "from keras.layers import LSTM\n",
        "import pickle\n",
        "from tensorflow.keras.optimizers import RMSprop"
      ],
      "metadata": {
        "id": "04wcA-OmX06I"
      },
      "execution_count": 1,
      "outputs": []
    },
    {
      "cell_type": "code",
      "source": [
        "## 2.\n",
        "\n",
        "from google.colab import drive\n",
        "drive.mount('/content/drive')"
      ],
      "metadata": {
        "colab": {
          "base_uri": "https://localhost:8080/"
        },
        "id": "Yc2M5vqJsQXX",
        "outputId": "b20fd59f-b856-44ed-995c-7728e5568a64"
      },
      "execution_count": 2,
      "outputs": [
        {
          "output_type": "stream",
          "name": "stdout",
          "text": [
            "Mounted at /content/drive\n"
          ]
        }
      ]
    },
    {
      "cell_type": "code",
      "execution_count": 4,
      "metadata": {
        "colab": {
          "base_uri": "https://localhost:8080/"
        },
        "id": "ma-3O2dwioJF",
        "outputId": "fdee2ed2-dae7-44cd-9bcc-115979f0fa33"
      },
      "outputs": [
        {
          "output_type": "stream",
          "name": "stdout",
          "text": [
            "['phone call' 'meeting' 'face-to-face conversation' 'general chatting'\n",
            " 'presentation' 'training']\n"
          ]
        }
      ],
      "source": [
        "## 3.\n",
        "\n",
        "# Import the data set, and get all sentences\n",
        "import pandas as pd\n",
        "\n",
        "df = pd.read_json('https://raw.githubusercontent.com/tsuruoka-lab/BSD/master/train.json')\n",
        "print(df['tag'].unique())"
      ]
    },
    {
      "cell_type": "code",
      "source": [
        "## 4.\n",
        "\n",
        "df"
      ],
      "metadata": {
        "colab": {
          "base_uri": "https://localhost:8080/",
          "height": 468
        },
        "id": "cahzn9YQqfJx",
        "outputId": "c32a4f0b-8d60-433a-ac93-4b6b66c9c053"
      },
      "execution_count": 5,
      "outputs": [
        {
          "output_type": "execute_result",
          "data": {
            "text/plain": [
              "                 id                        tag  \\\n",
              "0     190329_J07_03                 phone call   \n",
              "1     190329_J06_11                    meeting   \n",
              "2     190329_J06_10                    meeting   \n",
              "3     190329_J06_09  face-to-face conversation   \n",
              "4     190329_J06_08  face-to-face conversation   \n",
              "..              ...                        ...   \n",
              "665  190315_E001_05               presentation   \n",
              "666  190315_E001_04                   training   \n",
              "667  190315_E001_03           general chatting   \n",
              "668  190315_E001_02                 phone call   \n",
              "669  190315_E001_01                    meeting   \n",
              "\n",
              "                                                 title original_language  \\\n",
              "0                                 伝言への折り返し電話　打ち合わせ日程調整                ja   \n",
              "1                                    株主総会に関する役員向け説明（２）                ja   \n",
              "2                                    株主総会に関する役員向け説明（１）                ja   \n",
              "3                                        信託銀行から株主名簿を受領                ja   \n",
              "4                                           株主総会への臨場要請                ja   \n",
              "..                                                 ...               ...   \n",
              "665                 Presentation: Company introduction                en   \n",
              "666                  Training: training a new employee                en   \n",
              "667          General chatting: Company Christmas party                en   \n",
              "668            Phone call: requesting a lunch meeting.                en   \n",
              "669  Meeting: Wrap-up meeting (after meeting a star...                en   \n",
              "\n",
              "                                          conversation  \n",
              "0    [{'no': 1, 'ja_speaker': '土井さん', 'en_speaker':...  \n",
              "1    [{'no': 1, 'ja_speaker': '高田さん', 'en_speaker':...  \n",
              "2    [{'no': 1, 'ja_speaker': '友井さん', 'en_speaker':...  \n",
              "3    [{'no': 1, 'ja_speaker': '高田さん', 'en_speaker':...  \n",
              "4    [{'no': 1, 'ja_speaker': '高田さん', 'en_speaker':...  \n",
              "..                                                 ...  \n",
              "665  [{'no': 1, 'en_speaker': 'Mr. Asano Yuki', 'ja...  \n",
              "666  [{'no': 1, 'en_speaker': 'Mr. Ben Sherman', 'j...  \n",
              "667  [{'no': 1, 'en_speaker': 'Ms. Amy Lin', 'ja_sp...  \n",
              "668  [{'no': 1, 'en_speaker': 'Mr. John Smith', 'ja...  \n",
              "669  [{'no': 1, 'en_speaker': 'Mr. Bob Cook', 'ja_s...  \n",
              "\n",
              "[670 rows x 5 columns]"
            ],
            "text/html": [
              "\n",
              "  <div id=\"df-bd6a8a1f-2246-4e55-9b6a-d3d65e331f55\">\n",
              "    <div class=\"colab-df-container\">\n",
              "      <div>\n",
              "<style scoped>\n",
              "    .dataframe tbody tr th:only-of-type {\n",
              "        vertical-align: middle;\n",
              "    }\n",
              "\n",
              "    .dataframe tbody tr th {\n",
              "        vertical-align: top;\n",
              "    }\n",
              "\n",
              "    .dataframe thead th {\n",
              "        text-align: right;\n",
              "    }\n",
              "</style>\n",
              "<table border=\"1\" class=\"dataframe\">\n",
              "  <thead>\n",
              "    <tr style=\"text-align: right;\">\n",
              "      <th></th>\n",
              "      <th>id</th>\n",
              "      <th>tag</th>\n",
              "      <th>title</th>\n",
              "      <th>original_language</th>\n",
              "      <th>conversation</th>\n",
              "    </tr>\n",
              "  </thead>\n",
              "  <tbody>\n",
              "    <tr>\n",
              "      <th>0</th>\n",
              "      <td>190329_J07_03</td>\n",
              "      <td>phone call</td>\n",
              "      <td>伝言への折り返し電話　打ち合わせ日程調整</td>\n",
              "      <td>ja</td>\n",
              "      <td>[{'no': 1, 'ja_speaker': '土井さん', 'en_speaker':...</td>\n",
              "    </tr>\n",
              "    <tr>\n",
              "      <th>1</th>\n",
              "      <td>190329_J06_11</td>\n",
              "      <td>meeting</td>\n",
              "      <td>株主総会に関する役員向け説明（２）</td>\n",
              "      <td>ja</td>\n",
              "      <td>[{'no': 1, 'ja_speaker': '高田さん', 'en_speaker':...</td>\n",
              "    </tr>\n",
              "    <tr>\n",
              "      <th>2</th>\n",
              "      <td>190329_J06_10</td>\n",
              "      <td>meeting</td>\n",
              "      <td>株主総会に関する役員向け説明（１）</td>\n",
              "      <td>ja</td>\n",
              "      <td>[{'no': 1, 'ja_speaker': '友井さん', 'en_speaker':...</td>\n",
              "    </tr>\n",
              "    <tr>\n",
              "      <th>3</th>\n",
              "      <td>190329_J06_09</td>\n",
              "      <td>face-to-face conversation</td>\n",
              "      <td>信託銀行から株主名簿を受領</td>\n",
              "      <td>ja</td>\n",
              "      <td>[{'no': 1, 'ja_speaker': '高田さん', 'en_speaker':...</td>\n",
              "    </tr>\n",
              "    <tr>\n",
              "      <th>4</th>\n",
              "      <td>190329_J06_08</td>\n",
              "      <td>face-to-face conversation</td>\n",
              "      <td>株主総会への臨場要請</td>\n",
              "      <td>ja</td>\n",
              "      <td>[{'no': 1, 'ja_speaker': '高田さん', 'en_speaker':...</td>\n",
              "    </tr>\n",
              "    <tr>\n",
              "      <th>...</th>\n",
              "      <td>...</td>\n",
              "      <td>...</td>\n",
              "      <td>...</td>\n",
              "      <td>...</td>\n",
              "      <td>...</td>\n",
              "    </tr>\n",
              "    <tr>\n",
              "      <th>665</th>\n",
              "      <td>190315_E001_05</td>\n",
              "      <td>presentation</td>\n",
              "      <td>Presentation: Company introduction</td>\n",
              "      <td>en</td>\n",
              "      <td>[{'no': 1, 'en_speaker': 'Mr. Asano Yuki', 'ja...</td>\n",
              "    </tr>\n",
              "    <tr>\n",
              "      <th>666</th>\n",
              "      <td>190315_E001_04</td>\n",
              "      <td>training</td>\n",
              "      <td>Training: training a new employee</td>\n",
              "      <td>en</td>\n",
              "      <td>[{'no': 1, 'en_speaker': 'Mr. Ben Sherman', 'j...</td>\n",
              "    </tr>\n",
              "    <tr>\n",
              "      <th>667</th>\n",
              "      <td>190315_E001_03</td>\n",
              "      <td>general chatting</td>\n",
              "      <td>General chatting: Company Christmas party</td>\n",
              "      <td>en</td>\n",
              "      <td>[{'no': 1, 'en_speaker': 'Ms. Amy Lin', 'ja_sp...</td>\n",
              "    </tr>\n",
              "    <tr>\n",
              "      <th>668</th>\n",
              "      <td>190315_E001_02</td>\n",
              "      <td>phone call</td>\n",
              "      <td>Phone call: requesting a lunch meeting.</td>\n",
              "      <td>en</td>\n",
              "      <td>[{'no': 1, 'en_speaker': 'Mr. John Smith', 'ja...</td>\n",
              "    </tr>\n",
              "    <tr>\n",
              "      <th>669</th>\n",
              "      <td>190315_E001_01</td>\n",
              "      <td>meeting</td>\n",
              "      <td>Meeting: Wrap-up meeting (after meeting a star...</td>\n",
              "      <td>en</td>\n",
              "      <td>[{'no': 1, 'en_speaker': 'Mr. Bob Cook', 'ja_s...</td>\n",
              "    </tr>\n",
              "  </tbody>\n",
              "</table>\n",
              "<p>670 rows × 5 columns</p>\n",
              "</div>\n",
              "      <button class=\"colab-df-convert\" onclick=\"convertToInteractive('df-bd6a8a1f-2246-4e55-9b6a-d3d65e331f55')\"\n",
              "              title=\"Convert this dataframe to an interactive table.\"\n",
              "              style=\"display:none;\">\n",
              "        \n",
              "  <svg xmlns=\"http://www.w3.org/2000/svg\" height=\"24px\"viewBox=\"0 0 24 24\"\n",
              "       width=\"24px\">\n",
              "    <path d=\"M0 0h24v24H0V0z\" fill=\"none\"/>\n",
              "    <path d=\"M18.56 5.44l.94 2.06.94-2.06 2.06-.94-2.06-.94-.94-2.06-.94 2.06-2.06.94zm-11 1L8.5 8.5l.94-2.06 2.06-.94-2.06-.94L8.5 2.5l-.94 2.06-2.06.94zm10 10l.94 2.06.94-2.06 2.06-.94-2.06-.94-.94-2.06-.94 2.06-2.06.94z\"/><path d=\"M17.41 7.96l-1.37-1.37c-.4-.4-.92-.59-1.43-.59-.52 0-1.04.2-1.43.59L10.3 9.45l-7.72 7.72c-.78.78-.78 2.05 0 2.83L4 21.41c.39.39.9.59 1.41.59.51 0 1.02-.2 1.41-.59l7.78-7.78 2.81-2.81c.8-.78.8-2.07 0-2.86zM5.41 20L4 18.59l7.72-7.72 1.47 1.35L5.41 20z\"/>\n",
              "  </svg>\n",
              "      </button>\n",
              "      \n",
              "  <style>\n",
              "    .colab-df-container {\n",
              "      display:flex;\n",
              "      flex-wrap:wrap;\n",
              "      gap: 12px;\n",
              "    }\n",
              "\n",
              "    .colab-df-convert {\n",
              "      background-color: #E8F0FE;\n",
              "      border: none;\n",
              "      border-radius: 50%;\n",
              "      cursor: pointer;\n",
              "      display: none;\n",
              "      fill: #1967D2;\n",
              "      height: 32px;\n",
              "      padding: 0 0 0 0;\n",
              "      width: 32px;\n",
              "    }\n",
              "\n",
              "    .colab-df-convert:hover {\n",
              "      background-color: #E2EBFA;\n",
              "      box-shadow: 0px 1px 2px rgba(60, 64, 67, 0.3), 0px 1px 3px 1px rgba(60, 64, 67, 0.15);\n",
              "      fill: #174EA6;\n",
              "    }\n",
              "\n",
              "    [theme=dark] .colab-df-convert {\n",
              "      background-color: #3B4455;\n",
              "      fill: #D2E3FC;\n",
              "    }\n",
              "\n",
              "    [theme=dark] .colab-df-convert:hover {\n",
              "      background-color: #434B5C;\n",
              "      box-shadow: 0px 1px 3px 1px rgba(0, 0, 0, 0.15);\n",
              "      filter: drop-shadow(0px 1px 2px rgba(0, 0, 0, 0.3));\n",
              "      fill: #FFFFFF;\n",
              "    }\n",
              "  </style>\n",
              "\n",
              "      <script>\n",
              "        const buttonEl =\n",
              "          document.querySelector('#df-bd6a8a1f-2246-4e55-9b6a-d3d65e331f55 button.colab-df-convert');\n",
              "        buttonEl.style.display =\n",
              "          google.colab.kernel.accessAllowed ? 'block' : 'none';\n",
              "\n",
              "        async function convertToInteractive(key) {\n",
              "          const element = document.querySelector('#df-bd6a8a1f-2246-4e55-9b6a-d3d65e331f55');\n",
              "          const dataTable =\n",
              "            await google.colab.kernel.invokeFunction('convertToInteractive',\n",
              "                                                     [key], {});\n",
              "          if (!dataTable) return;\n",
              "\n",
              "          const docLinkHtml = 'Like what you see? Visit the ' +\n",
              "            '<a target=\"_blank\" href=https://colab.research.google.com/notebooks/data_table.ipynb>data table notebook</a>'\n",
              "            + ' to learn more about interactive tables.';\n",
              "          element.innerHTML = '';\n",
              "          dataTable['output_type'] = 'display_data';\n",
              "          await google.colab.output.renderOutput(dataTable, element);\n",
              "          const docLink = document.createElement('div');\n",
              "          docLink.innerHTML = docLinkHtml;\n",
              "          element.appendChild(docLink);\n",
              "        }\n",
              "      </script>\n",
              "    </div>\n",
              "  </div>\n",
              "  "
            ]
          },
          "metadata": {},
          "execution_count": 5
        }
      ]
    },
    {
      "cell_type": "code",
      "source": [
        "## 5.\n",
        "\n",
        "df_convs = pd.concat([pd.json_normalize(df['conversation'][i]) for i in range(len(df))],ignore_index=True)\n",
        "trainen = df_convs[\"en_sentence\"].values.tolist()\n",
        "trainja = df_convs[\"ja_sentence\"].values.tolist()"
      ],
      "metadata": {
        "id": "wIgqXgN5kzII"
      },
      "execution_count": 6,
      "outputs": []
    },
    {
      "cell_type": "code",
      "source": [
        "## 6.\n",
        "\n",
        "df_convs"
      ],
      "metadata": {
        "colab": {
          "base_uri": "https://localhost:8080/",
          "height": 537
        },
        "id": "Oz4TefjJqpL7",
        "outputId": "fce7f2fe-2e3e-4d51-cbf3-8a6fba188389"
      },
      "execution_count": 7,
      "outputs": [
        {
          "output_type": "execute_result",
          "data": {
            "text/plain": [
              "       no  ja_speaker      en_speaker                          ja_sentence  \\\n",
              "0       1        土井さん         Doi-san                      はい、K社システム開発部です。   \n",
              "1       2        高市さん    Takaichi-san                          H社の高市と申します。   \n",
              "2       3        高市さん    Takaichi-san                      いつもお世話になっております。   \n",
              "3       4        土井さん         Doi-san                   こちらこそ、お世話になっております。   \n",
              "4       5        高市さん    Takaichi-san                      稲田さんはいらっしゃいますか？   \n",
              "...    ..         ...             ...                                  ...   \n",
              "19995  28    ボブ クックさん    Mr. Bob Cook                      今日の5時までに書き上げます。   \n",
              "19996  29  アル ジョンソンさん  Mr. Al Johnson                                完璧だね。   \n",
              "19997  30  アル ジョンソンさん  Mr. Al Johnson          明日ゼネラルマネージャーにA社の件を話しておきますね。   \n",
              "19998  31  アル ジョンソンさん  Mr. Al Johnson  彼がA社を気に入ってくれて、投資できる方向に決まることを願いましょう。   \n",
              "19999  32    ボブ クックさん    Mr. Bob Cook                               そうですね。   \n",
              "\n",
              "                                             en_sentence  \n",
              "0      Hi this is the systems development department ...  \n",
              "1                    My name is Takaichi from Company H.  \n",
              "2                                   Thank you as always.  \n",
              "3                           Thank you as always as well.  \n",
              "4                                    Is Inada-san there?  \n",
              "...                                                  ...  \n",
              "19995                 I'll finish it by 5 o'clock today.  \n",
              "19996                                           Perfect.  \n",
              "19997  I'll go talk to the general manager tomorrow t...  \n",
              "19998  Hopefully he will like Company A and make the ...  \n",
              "19999                                     I hope so too.  \n",
              "\n",
              "[20000 rows x 5 columns]"
            ],
            "text/html": [
              "\n",
              "  <div id=\"df-a43e69cb-79c9-4978-9fae-34144255b4c9\">\n",
              "    <div class=\"colab-df-container\">\n",
              "      <div>\n",
              "<style scoped>\n",
              "    .dataframe tbody tr th:only-of-type {\n",
              "        vertical-align: middle;\n",
              "    }\n",
              "\n",
              "    .dataframe tbody tr th {\n",
              "        vertical-align: top;\n",
              "    }\n",
              "\n",
              "    .dataframe thead th {\n",
              "        text-align: right;\n",
              "    }\n",
              "</style>\n",
              "<table border=\"1\" class=\"dataframe\">\n",
              "  <thead>\n",
              "    <tr style=\"text-align: right;\">\n",
              "      <th></th>\n",
              "      <th>no</th>\n",
              "      <th>ja_speaker</th>\n",
              "      <th>en_speaker</th>\n",
              "      <th>ja_sentence</th>\n",
              "      <th>en_sentence</th>\n",
              "    </tr>\n",
              "  </thead>\n",
              "  <tbody>\n",
              "    <tr>\n",
              "      <th>0</th>\n",
              "      <td>1</td>\n",
              "      <td>土井さん</td>\n",
              "      <td>Doi-san</td>\n",
              "      <td>はい、K社システム開発部です。</td>\n",
              "      <td>Hi this is the systems development department ...</td>\n",
              "    </tr>\n",
              "    <tr>\n",
              "      <th>1</th>\n",
              "      <td>2</td>\n",
              "      <td>高市さん</td>\n",
              "      <td>Takaichi-san</td>\n",
              "      <td>H社の高市と申します。</td>\n",
              "      <td>My name is Takaichi from Company H.</td>\n",
              "    </tr>\n",
              "    <tr>\n",
              "      <th>2</th>\n",
              "      <td>3</td>\n",
              "      <td>高市さん</td>\n",
              "      <td>Takaichi-san</td>\n",
              "      <td>いつもお世話になっております。</td>\n",
              "      <td>Thank you as always.</td>\n",
              "    </tr>\n",
              "    <tr>\n",
              "      <th>3</th>\n",
              "      <td>4</td>\n",
              "      <td>土井さん</td>\n",
              "      <td>Doi-san</td>\n",
              "      <td>こちらこそ、お世話になっております。</td>\n",
              "      <td>Thank you as always as well.</td>\n",
              "    </tr>\n",
              "    <tr>\n",
              "      <th>4</th>\n",
              "      <td>5</td>\n",
              "      <td>高市さん</td>\n",
              "      <td>Takaichi-san</td>\n",
              "      <td>稲田さんはいらっしゃいますか？</td>\n",
              "      <td>Is Inada-san there?</td>\n",
              "    </tr>\n",
              "    <tr>\n",
              "      <th>...</th>\n",
              "      <td>...</td>\n",
              "      <td>...</td>\n",
              "      <td>...</td>\n",
              "      <td>...</td>\n",
              "      <td>...</td>\n",
              "    </tr>\n",
              "    <tr>\n",
              "      <th>19995</th>\n",
              "      <td>28</td>\n",
              "      <td>ボブ クックさん</td>\n",
              "      <td>Mr. Bob Cook</td>\n",
              "      <td>今日の5時までに書き上げます。</td>\n",
              "      <td>I'll finish it by 5 o'clock today.</td>\n",
              "    </tr>\n",
              "    <tr>\n",
              "      <th>19996</th>\n",
              "      <td>29</td>\n",
              "      <td>アル ジョンソンさん</td>\n",
              "      <td>Mr. Al Johnson</td>\n",
              "      <td>完璧だね。</td>\n",
              "      <td>Perfect.</td>\n",
              "    </tr>\n",
              "    <tr>\n",
              "      <th>19997</th>\n",
              "      <td>30</td>\n",
              "      <td>アル ジョンソンさん</td>\n",
              "      <td>Mr. Al Johnson</td>\n",
              "      <td>明日ゼネラルマネージャーにA社の件を話しておきますね。</td>\n",
              "      <td>I'll go talk to the general manager tomorrow t...</td>\n",
              "    </tr>\n",
              "    <tr>\n",
              "      <th>19998</th>\n",
              "      <td>31</td>\n",
              "      <td>アル ジョンソンさん</td>\n",
              "      <td>Mr. Al Johnson</td>\n",
              "      <td>彼がA社を気に入ってくれて、投資できる方向に決まることを願いましょう。</td>\n",
              "      <td>Hopefully he will like Company A and make the ...</td>\n",
              "    </tr>\n",
              "    <tr>\n",
              "      <th>19999</th>\n",
              "      <td>32</td>\n",
              "      <td>ボブ クックさん</td>\n",
              "      <td>Mr. Bob Cook</td>\n",
              "      <td>そうですね。</td>\n",
              "      <td>I hope so too.</td>\n",
              "    </tr>\n",
              "  </tbody>\n",
              "</table>\n",
              "<p>20000 rows × 5 columns</p>\n",
              "</div>\n",
              "      <button class=\"colab-df-convert\" onclick=\"convertToInteractive('df-a43e69cb-79c9-4978-9fae-34144255b4c9')\"\n",
              "              title=\"Convert this dataframe to an interactive table.\"\n",
              "              style=\"display:none;\">\n",
              "        \n",
              "  <svg xmlns=\"http://www.w3.org/2000/svg\" height=\"24px\"viewBox=\"0 0 24 24\"\n",
              "       width=\"24px\">\n",
              "    <path d=\"M0 0h24v24H0V0z\" fill=\"none\"/>\n",
              "    <path d=\"M18.56 5.44l.94 2.06.94-2.06 2.06-.94-2.06-.94-.94-2.06-.94 2.06-2.06.94zm-11 1L8.5 8.5l.94-2.06 2.06-.94-2.06-.94L8.5 2.5l-.94 2.06-2.06.94zm10 10l.94 2.06.94-2.06 2.06-.94-2.06-.94-.94-2.06-.94 2.06-2.06.94z\"/><path d=\"M17.41 7.96l-1.37-1.37c-.4-.4-.92-.59-1.43-.59-.52 0-1.04.2-1.43.59L10.3 9.45l-7.72 7.72c-.78.78-.78 2.05 0 2.83L4 21.41c.39.39.9.59 1.41.59.51 0 1.02-.2 1.41-.59l7.78-7.78 2.81-2.81c.8-.78.8-2.07 0-2.86zM5.41 20L4 18.59l7.72-7.72 1.47 1.35L5.41 20z\"/>\n",
              "  </svg>\n",
              "      </button>\n",
              "      \n",
              "  <style>\n",
              "    .colab-df-container {\n",
              "      display:flex;\n",
              "      flex-wrap:wrap;\n",
              "      gap: 12px;\n",
              "    }\n",
              "\n",
              "    .colab-df-convert {\n",
              "      background-color: #E8F0FE;\n",
              "      border: none;\n",
              "      border-radius: 50%;\n",
              "      cursor: pointer;\n",
              "      display: none;\n",
              "      fill: #1967D2;\n",
              "      height: 32px;\n",
              "      padding: 0 0 0 0;\n",
              "      width: 32px;\n",
              "    }\n",
              "\n",
              "    .colab-df-convert:hover {\n",
              "      background-color: #E2EBFA;\n",
              "      box-shadow: 0px 1px 2px rgba(60, 64, 67, 0.3), 0px 1px 3px 1px rgba(60, 64, 67, 0.15);\n",
              "      fill: #174EA6;\n",
              "    }\n",
              "\n",
              "    [theme=dark] .colab-df-convert {\n",
              "      background-color: #3B4455;\n",
              "      fill: #D2E3FC;\n",
              "    }\n",
              "\n",
              "    [theme=dark] .colab-df-convert:hover {\n",
              "      background-color: #434B5C;\n",
              "      box-shadow: 0px 1px 3px 1px rgba(0, 0, 0, 0.15);\n",
              "      filter: drop-shadow(0px 1px 2px rgba(0, 0, 0, 0.3));\n",
              "      fill: #FFFFFF;\n",
              "    }\n",
              "  </style>\n",
              "\n",
              "      <script>\n",
              "        const buttonEl =\n",
              "          document.querySelector('#df-a43e69cb-79c9-4978-9fae-34144255b4c9 button.colab-df-convert');\n",
              "        buttonEl.style.display =\n",
              "          google.colab.kernel.accessAllowed ? 'block' : 'none';\n",
              "\n",
              "        async function convertToInteractive(key) {\n",
              "          const element = document.querySelector('#df-a43e69cb-79c9-4978-9fae-34144255b4c9');\n",
              "          const dataTable =\n",
              "            await google.colab.kernel.invokeFunction('convertToInteractive',\n",
              "                                                     [key], {});\n",
              "          if (!dataTable) return;\n",
              "\n",
              "          const docLinkHtml = 'Like what you see? Visit the ' +\n",
              "            '<a target=\"_blank\" href=https://colab.research.google.com/notebooks/data_table.ipynb>data table notebook</a>'\n",
              "            + ' to learn more about interactive tables.';\n",
              "          element.innerHTML = '';\n",
              "          dataTable['output_type'] = 'display_data';\n",
              "          await google.colab.output.renderOutput(dataTable, element);\n",
              "          const docLink = document.createElement('div');\n",
              "          docLink.innerHTML = docLinkHtml;\n",
              "          element.appendChild(docLink);\n",
              "        }\n",
              "      </script>\n",
              "    </div>\n",
              "  </div>\n",
              "  "
            ]
          },
          "metadata": {},
          "execution_count": 7
        }
      ]
    },
    {
      "cell_type": "code",
      "source": [
        "## 7.\n",
        "\n",
        "len(trainen)"
      ],
      "metadata": {
        "id": "X9aOspbbk0Gs",
        "colab": {
          "base_uri": "https://localhost:8080/"
        },
        "outputId": "5eb7349c-16f3-4d84-f2d4-b3a3e8123b25"
      },
      "execution_count": 8,
      "outputs": [
        {
          "output_type": "execute_result",
          "data": {
            "text/plain": [
              "20000"
            ]
          },
          "metadata": {},
          "execution_count": 8
        }
      ]
    },
    {
      "cell_type": "code",
      "source": [
        "## 8.\n",
        "\n",
        "trainen[140:160]"
      ],
      "metadata": {
        "colab": {
          "base_uri": "https://localhost:8080/"
        },
        "id": "bpyu8EgEcxiq",
        "outputId": "5f8b4b8d-6247-4060-e511-b4581ee67aae"
      },
      "execution_count": 9,
      "outputs": [
        {
          "output_type": "execute_result",
          "data": {
            "text/plain": [
              "['I hope so.',\n",
              " 'Okay, anyways, we will send 2 police officers from our side to the general meeting of shareholders on the day.',\n",
              " 'Thank you very much.',\n",
              " 'I will have them speak to your reception around 9:30 in the morning.',\n",
              " 'Okay.',\n",
              " 'I will be stationed at the reception ten minutes before the start of the general meeting so please let me know.',\n",
              " 'Okay, got it.',\n",
              " 'Alright, then I look forward to working with you on the day.',\n",
              " 'Thank you for calling, this is the Judicial Scrivener office T.',\n",
              " 'Thank you as always, my name is Takada from Company I.',\n",
              " 'Thank you.',\n",
              " 'Sorry but is Mr. Takanashi in today?',\n",
              " 'Please wait a moment.',\n",
              " 'Thank you for holding, this is Takanashi.',\n",
              " 'Thank you as always, this is Takada.',\n",
              " \"I'm calling today in regards to a registration request.\",\n",
              " 'I exercised the stock option last month and the stock increased.',\n",
              " \"And I'd like to ask you to do the registration process for changing the total number of stock issued.\",\n",
              " 'Okay.',\n",
              " 'I will send you an email on the details of the number of stock.']"
            ]
          },
          "metadata": {},
          "execution_count": 9
        }
      ]
    },
    {
      "cell_type": "code",
      "source": [
        "## 9.\n",
        "\n",
        "#concat all english messages\n",
        "text = ' '.join(trainen[0:10000]) # Out of RAM if we use all the data\n",
        "print('length of the corpus is: :', len(text))"
      ],
      "metadata": {
        "colab": {
          "base_uri": "https://localhost:8080/"
        },
        "id": "MNS6pWZXpnt8",
        "outputId": "34f1e589-590b-4182-c7ff-f8f7ff0b83f0"
      },
      "execution_count": 10,
      "outputs": [
        {
          "output_type": "stream",
          "name": "stdout",
          "text": [
            "length of the corpus is: : 532978\n"
          ]
        }
      ]
    },
    {
      "cell_type": "code",
      "source": [
        "## 10.\n",
        "\n",
        "# tokenizer\n",
        "tokenizer = RegexpTokenizer(r'\\w+')\n",
        "words = tokenizer.tokenize(text)"
      ],
      "metadata": {
        "id": "UdWEMJCYtvG0"
      },
      "execution_count": 11,
      "outputs": []
    },
    {
      "cell_type": "code",
      "source": [
        "## 11.\n",
        "\n",
        "# get unique words\n",
        "unique_words = np.unique(words)\n",
        "unique_word_index = dict((c, i) for i, c in enumerate(unique_words))"
      ],
      "metadata": {
        "id": "4lnZnbU3Yngi"
      },
      "execution_count": 12,
      "outputs": []
    },
    {
      "cell_type": "code",
      "source": [
        "## 12.\n",
        "\n",
        "len(unique_words)"
      ],
      "metadata": {
        "colab": {
          "base_uri": "https://localhost:8080/"
        },
        "id": "lExPYkbfYq5v",
        "outputId": "dc3363bd-f46f-442b-979b-05936090891c"
      },
      "execution_count": 13,
      "outputs": [
        {
          "output_type": "execute_result",
          "data": {
            "text/plain": [
              "6197"
            ]
          },
          "metadata": {},
          "execution_count": 13
        }
      ]
    },
    {
      "cell_type": "code",
      "source": [
        "## 13.\n",
        "\n",
        "unique_words[1000:1020]"
      ],
      "metadata": {
        "colab": {
          "base_uri": "https://localhost:8080/"
        },
        "id": "k0sfpTTakRX0",
        "outputId": "42135238-73b8-47e0-b6f5-86bc68017764"
      },
      "execution_count": 14,
      "outputs": [
        {
          "output_type": "execute_result",
          "data": {
            "text/plain": [
              "array(['Shanghai', 'She', 'Shibata', 'Shibuya', 'Shiota', 'Shiraishi',\n",
              "       'Shiroki', 'Shirota', 'Shizuo', 'Shodoshima', 'Shop', 'Should',\n",
              "       'Shouldn', 'Shuji', 'Silence', 'Silicone', 'Similar', 'Since',\n",
              "       'Sir', 'Six'], dtype='<U16')"
            ]
          },
          "metadata": {},
          "execution_count": 14
        }
      ]
    },
    {
      "cell_type": "markdown",
      "source": [
        "## Feature Engineering\n",
        "- Prepare the model input (x) and output (y)\n",
        "- Prepare word2id and id2word dictionaries"
      ],
      "metadata": {
        "id": "T3scyhWpkcty"
      }
    },
    {
      "cell_type": "code",
      "source": [
        "## 14.\n",
        "\n",
        "# model input = prev_words\n",
        "# model output = next_words\n",
        "\n",
        "WORD_LENGTH = 5\n",
        "next_words = []\n",
        "prev_words = []\n",
        "for j in range(len(words) - WORD_LENGTH):\n",
        "     prev_words.append(words[j:j + WORD_LENGTH])\n",
        "     next_words.append(words[j + WORD_LENGTH])\n",
        "print(prev_words[0])\n",
        "print(next_words[0])"
      ],
      "metadata": {
        "colab": {
          "base_uri": "https://localhost:8080/"
        },
        "id": "Wh0Gzt5pY6cZ",
        "outputId": "69909bbc-2ccc-4ffc-89e6-b8fe2ee32f26"
      },
      "execution_count": 15,
      "outputs": [
        {
          "output_type": "stream",
          "name": "stdout",
          "text": [
            "['Hi', 'this', 'is', 'the', 'systems']\n",
            "development\n"
          ]
        }
      ]
    },
    {
      "cell_type": "code",
      "source": [
        "## 15.\n",
        "\n",
        "# convert features into numpy arrays\n",
        "X = np.zeros((len(prev_words), WORD_LENGTH, len(unique_words)), dtype=bool)\n",
        "Y = np.zeros((len(next_words), len(unique_words)), dtype=bool)\n",
        "# prepare word2id index\n",
        "for i, each_words in enumerate(prev_words):\n",
        "   for j, each_word in enumerate(each_words):\n",
        "        X[i, j, unique_word_index[each_word]] = 1\n",
        "   Y[i, unique_word_index[next_words[i]]] = 1\n",
        "word2id = unique_word_index"
      ],
      "metadata": {
        "id": "ALCqO8GjZy4k"
      },
      "execution_count": 16,
      "outputs": []
    },
    {
      "cell_type": "code",
      "source": [
        "## 16.\n",
        "\n",
        "# prepare id2word index ==> for inference\n",
        "id2word = {y:x for x,y in unique_word_index.items()}"
      ],
      "metadata": {
        "id": "mFk-haqrdNGI"
      },
      "execution_count": 17,
      "outputs": []
    },
    {
      "cell_type": "markdown",
      "source": [
        "## Training"
      ],
      "metadata": {
        "id": "u3fDEotrkr5A"
      }
    },
    {
      "cell_type": "code",
      "source": [
        "## 17.\n",
        "\n",
        "# build model\n",
        "model = Sequential()\n",
        "model.add(LSTM(128, input_shape=(WORD_LENGTH, len(unique_words))))\n",
        "model.add(Dense(len(unique_words)))\n",
        "model.add(Activation('softmax'))"
      ],
      "metadata": {
        "id": "uRjvPHSOZ6Wj"
      },
      "execution_count": 18,
      "outputs": []
    },
    {
      "cell_type": "code",
      "source": [
        "## 18.\n",
        "\n",
        "# train model\n",
        "optimizer = RMSprop(learning_rate=0.01)\n",
        "model.compile(loss='categorical_crossentropy', optimizer=optimizer, metrics=['accuracy'])\n",
        "history = model.fit(X, Y, validation_split=0.05, batch_size=128, epochs=2, shuffle=True).history"
      ],
      "metadata": {
        "colab": {
          "base_uri": "https://localhost:8080/"
        },
        "id": "TFsRvxR8acv8",
        "outputId": "b7a4663f-f2c7-4fda-b289-823bafa1cc6e"
      },
      "execution_count": 19,
      "outputs": [
        {
          "output_type": "stream",
          "name": "stdout",
          "text": [
            "Epoch 1/2\n",
            "769/769 [==============================] - 126s 161ms/step - loss: 5.8386 - accuracy: 0.1254 - val_loss: 5.6074 - val_accuracy: 0.1687\n",
            "Epoch 2/2\n",
            "769/769 [==============================] - 127s 165ms/step - loss: 5.4430 - accuracy: 0.1790 - val_loss: 5.9375 - val_accuracy: 0.1756\n"
          ]
        }
      ]
    },
    {
      "cell_type": "code",
      "source": [
        "## 19.\n",
        "\n",
        "# save model\n",
        "model.save('next_word_model.h5')\n",
        "pickle.dump(history, open(\"history.p\", \"wb\"))"
      ],
      "metadata": {
        "id": "WZlNoGh9atZb"
      },
      "execution_count": 20,
      "outputs": []
    },
    {
      "cell_type": "code",
      "source": [
        "## 20.\n",
        "\n",
        "history"
      ],
      "metadata": {
        "colab": {
          "base_uri": "https://localhost:8080/"
        },
        "id": "kuFdNlQEblgJ",
        "outputId": "543625ef-7792-46de-d9f8-025097bd14bb"
      },
      "execution_count": 21,
      "outputs": [
        {
          "output_type": "execute_result",
          "data": {
            "text/plain": [
              "{'loss': [5.838614463806152, 5.443006992340088],\n",
              " 'accuracy': [0.1253737360239029, 0.17895860970020294],\n",
              " 'val_loss': [5.60744047164917, 5.937475681304932],\n",
              " 'val_accuracy': [0.16866305470466614, 0.1756182312965393]}"
            ]
          },
          "metadata": {},
          "execution_count": 21
        }
      ]
    },
    {
      "cell_type": "code",
      "source": [
        "## 21.\n",
        "\n",
        "# evaluate model\n",
        "plt.plot(history['accuracy'])\n",
        "plt.plot(history['val_accuracy'])\n",
        "plt.title('model accuracy')\n",
        "plt.ylabel('accuracy')\n",
        "plt.xlabel('epoch')\n",
        "plt.legend(['train', 'test'], loc='upper left')"
      ],
      "metadata": {
        "colab": {
          "base_uri": "https://localhost:8080/",
          "height": 313
        },
        "id": "-0mmtJc6bfFJ",
        "outputId": "271075b6-de74-48ab-dd99-7890aa6023ef"
      },
      "execution_count": 22,
      "outputs": [
        {
          "output_type": "execute_result",
          "data": {
            "text/plain": [
              "<matplotlib.legend.Legend at 0x7f8d75a167d0>"
            ]
          },
          "metadata": {},
          "execution_count": 22
        },
        {
          "output_type": "display_data",
          "data": {
            "text/plain": [
              "<Figure size 432x288 with 1 Axes>"
            ],
            "image/png": "[encoded data removed]"
          },
          "metadata": {
            "needs_background": "light"
          }
        }
      ]
    },
    {
      "cell_type": "code",
      "source": [
        "## 22.\n",
        "\n",
        "plt.plot(history['loss'])\n",
        "plt.plot(history['val_loss'])\n",
        "plt.title('model loss')\n",
        "plt.ylabel('loss')\n",
        "plt.xlabel('epoch')\n",
        "plt.legend(['train', 'test'], loc='upper left')"
      ],
      "metadata": {
        "colab": {
          "base_uri": "https://localhost:8080/",
          "height": 313
        },
        "id": "FPFxgxsobi4F",
        "outputId": "6f124993-a74f-4b36-e3c0-4b4a205b7186"
      },
      "execution_count": 23,
      "outputs": [
        {
          "output_type": "execute_result",
          "data": {
            "text/plain": [
              "<matplotlib.legend.Legend at 0x7f8d754941d0>"
            ]
          },
          "metadata": {},
          "execution_count": 23
        },
        {
          "output_type": "display_data",
          "data": {
            "text/plain": [
              "<Figure size 432x288 with 1 Axes>"
            ],
            "image/png": "[encoded data removed]"
          },
          "metadata": {
            "needs_background": "light"
          }
        }
      ]
    },
    {
      "cell_type": "markdown",
      "source": [
        "## Load Trained Model"
      ],
      "metadata": {
        "id": "MRZRy-ODkvOC"
      }
    },
    {
      "cell_type": "code",
      "source": [
        "## 23.\n",
        "\n",
        "# load model -- 32.3 m\n",
        "### model = load_model('/content/drive/MyDrive/Colab Notebooks/nwp-en-bsd/next_word_model.h5')\n",
        "\n",
        "## Will NOT run this time for the purposes of the checkpoint"
      ],
      "metadata": {
        "id": "Apypo9qVjnOX"
      },
      "execution_count": null,
      "outputs": []
    },
    {
      "cell_type": "markdown",
      "source": [
        "## Predict next words"
      ],
      "metadata": {
        "id": "zU3RVvo0k0g9"
      }
    },
    {
      "cell_type": "code",
      "source": [
        "## 24.\n",
        "\n",
        "def prepare_input(text):\n",
        "    words = tokenizer.tokenize(text)\n",
        "    x = np.zeros((1, WORD_LENGTH, len(unique_words)))\n",
        "    for t, word in enumerate(words):\n",
        "        x[0, t, word2id[word]] = 1.\n",
        "        \n",
        "    return x"
      ],
      "metadata": {
        "id": "zfCs0Z9VbxPI"
      },
      "execution_count": 24,
      "outputs": []
    },
    {
      "cell_type": "code",
      "source": [
        "## 25.\n",
        "\n",
        "def sample(preds, top_n=3):\n",
        "    preds = np.asarray(preds).astype('float64')\n",
        "    preds = np.log(preds)\n",
        "    exp_preds = np.exp(preds)\n",
        "    preds = exp_preds / np.sum(exp_preds)\n",
        "\n",
        "    return heapq.nlargest(top_n, range(len(preds)), preds.take)"
      ],
      "metadata": {
        "id": "-QOIx354fOQl"
      },
      "execution_count": 27,
      "outputs": []
    },
    {
      "cell_type": "code",
      "source": [
        "## 26.\n",
        "\n",
        "def predict_completion(text):\n",
        "    original_text = text\n",
        "    generated = text\n",
        "    completion = ''\n",
        "    while True:\n",
        "        x = prepare_input(text)\n",
        "        preds = model.predict(x, verbose=0)[0]\n",
        "        next_index = sample(preds, top_n=1)[0]\n",
        "        next_word = id2word[next_index]\n",
        "        text = text[1:] + next_word\n",
        "        completion += next_word\n",
        "        \n",
        "        if len(original_text + completion) + 2 > len(original_text) and next_word == ' ':\n",
        "            return completion"
      ],
      "metadata": {
        "id": "YoQssJddf5uU"
      },
      "execution_count": 28,
      "outputs": []
    },
    {
      "cell_type": "code",
      "source": [
        "## 27.\n",
        "\n",
        "def predict_next_word(text, n=3):\n",
        "    x = prepare_input(text)\n",
        "    preds = model.predict(x, verbose=0)[0]\n",
        "    next_indices = sample(preds, n)\n",
        "    return [id2word[idx] for idx in next_indices]"
      ],
      "metadata": {
        "id": "pPO74Nvpha0B"
      },
      "execution_count": 29,
      "outputs": []
    },
    {
      "cell_type": "markdown",
      "source": [
        "### Example #1"
      ],
      "metadata": {
        "id": "iuXyA-u84tVs"
      }
    },
    {
      "cell_type": "markdown",
      "source": [
        "Starting sentence: \"I look forward to working\""
      ],
      "metadata": {
        "id": "mutUyMdVl-7e"
      }
    },
    {
      "cell_type": "code",
      "source": [
        "## 28.\n",
        "\n",
        "# current model only accept input with 5 words\n",
        "input=\"I look forward to working\"\n",
        "print(predict_next_word(input, 5))\n",
        "\n",
        "# predicted sentence: \"I look forward to working with\" "
      ],
      "metadata": {
        "colab": {
          "base_uri": "https://localhost:8080/"
        },
        "id": "CfAJLlR0hj3k",
        "outputId": "bc7ab768-72c5-4978-d3c6-bfa5eb9c598b"
      },
      "execution_count": 30,
      "outputs": [
        {
          "output_type": "stream",
          "name": "stdout",
          "text": [
            "['with', 'on', 'in', 'to', 'about']\n"
          ]
        }
      ]
    },
    {
      "cell_type": "code",
      "source": [
        "## 29.\n",
        "\n",
        "input=\"look forward to working with\"\n",
        "print(predict_next_word(input, 5))\n",
        "\n",
        "# predicted sentence: \"I look forward to working with you\" "
      ],
      "metadata": {
        "colab": {
          "base_uri": "https://localhost:8080/"
        },
        "id": "z4D-lim2lopa",
        "outputId": "fa0498da-d211-4c24-8707-4cf395937ada"
      },
      "execution_count": 31,
      "outputs": [
        {
          "output_type": "stream",
          "name": "stdout",
          "text": [
            "['you', 'the', 'that', 'it', 'this']\n"
          ]
        }
      ]
    },
    {
      "cell_type": "code",
      "source": [
        "## 30.\n",
        "\n",
        "input=\"forward to working with you\"\n",
        "print(predict_next_word(input, 5))\n",
        "\n",
        "# predicted sentence: \"I look forward to working with you about\" "
      ],
      "metadata": {
        "colab": {
          "base_uri": "https://localhost:8080/"
        },
        "id": "uL0D_nBMlq2B",
        "outputId": "107d4d5c-f22c-4730-c582-03818ea4f4fa"
      },
      "execution_count": 32,
      "outputs": [
        {
          "output_type": "stream",
          "name": "stdout",
          "text": [
            "['I', 'about', 'Yes', 'Okay', 'Thank']\n"
          ]
        }
      ]
    },
    {
      "cell_type": "code",
      "source": [
        "## 31.\n",
        "\n",
        "input=\"to working with you about\"\n",
        "print(predict_next_word(input, 5))\n",
        "\n",
        "# predicted sentence: \"I look forward to working with you about the\" "
      ],
      "metadata": {
        "colab": {
          "base_uri": "https://localhost:8080/"
        },
        "id": "fF_pnMzLl0G1",
        "outputId": "7719f7d6-4528-4ead-82b0-4b71bfb755d7"
      },
      "execution_count": 33,
      "outputs": [
        {
          "output_type": "stream",
          "name": "stdout",
          "text": [
            "['the', 'it', 'this', 'you', 'that']\n"
          ]
        }
      ]
    },
    {
      "cell_type": "code",
      "source": [
        "## 32.\n",
        "\n",
        "input=\"working with you about the\"\n",
        "print(predict_next_word(input, 5))\n",
        "\n",
        "# predicted sentence: \"I look forward to working with you about the new\""
      ],
      "metadata": {
        "colab": {
          "base_uri": "https://localhost:8080/"
        },
        "id": "Ol85UKKLl34s",
        "outputId": "870e8518-2a05-4c6f-d712-83cc28c4c367"
      },
      "execution_count": 34,
      "outputs": [
        {
          "output_type": "stream",
          "name": "stdout",
          "text": [
            "['new', 'meeting', 'company', 'office', 'other']\n"
          ]
        }
      ]
    },
    {
      "cell_type": "markdown",
      "source": [
        "### Example #2"
      ],
      "metadata": {
        "id": "SU7PFo3t4wKx"
      }
    },
    {
      "cell_type": "markdown",
      "source": [
        "Starting sentence: \"Good morning I would like\""
      ],
      "metadata": {
        "id": "Sv99zPGZ5MCu"
      }
    },
    {
      "cell_type": "code",
      "source": [
        "## 33.\n",
        "\n",
        "# current model only accept input with 5 words\n",
        "input=\"Good morning I would like\"\n",
        "print(predict_next_word(input, 5))\n",
        "\n",
        "# predicted sentence: \"Good morning I would like to\" "
      ],
      "metadata": {
        "id": "EoO4tco6oJON",
        "colab": {
          "base_uri": "https://localhost:8080/"
        },
        "outputId": "ff1c1d21-6b44-476d-d5d0-047a349bd1d1"
      },
      "execution_count": 35,
      "outputs": [
        {
          "output_type": "stream",
          "name": "stdout",
          "text": [
            "['to', 'you', 'it', 'the', 'a']\n"
          ]
        }
      ]
    },
    {
      "cell_type": "code",
      "source": [
        "## 34.\n",
        "\n",
        "input=\"morning I would like to\"\n",
        "print(predict_next_word(input, 5))\n",
        "\n",
        "# predicted sentence: \"Good morning I would like to be\" "
      ],
      "metadata": {
        "colab": {
          "base_uri": "https://localhost:8080/"
        },
        "id": "P8evw3TK417x",
        "outputId": "97acdf96-1955-4348-a23d-7829e7d18b07"
      },
      "execution_count": 36,
      "outputs": [
        {
          "output_type": "stream",
          "name": "stdout",
          "text": [
            "['be', 'do', 'have', 'ask', 'go']\n"
          ]
        }
      ]
    },
    {
      "cell_type": "code",
      "source": [
        "## 35.\n",
        "\n",
        "input=\"I would like to be\"\n",
        "print(predict_next_word(input, 5))\n",
        "\n",
        "# predicted sentence: \"Good morning I would like to be the\" "
      ],
      "metadata": {
        "colab": {
          "base_uri": "https://localhost:8080/"
        },
        "id": "6GyuDW4m44TF",
        "outputId": "00d45a75-12b5-4c25-b537-b42c75d43667"
      },
      "execution_count": 37,
      "outputs": [
        {
          "output_type": "stream",
          "name": "stdout",
          "text": [
            "['the', 'a', 'able', 'in', 'more']\n"
          ]
        }
      ]
    },
    {
      "cell_type": "code",
      "source": [
        "## 36.\n",
        "\n",
        "input=\"would like to be the\"\n",
        "print(predict_next_word(input, 5))\n",
        "\n",
        "# predicted sentence: \"Good morning I would like to be same\" "
      ],
      "metadata": {
        "colab": {
          "base_uri": "https://localhost:8080/"
        },
        "id": "AzyBFdNS4-2_",
        "outputId": "67505c14-9ccc-4e6b-8b1d-ab4b6d870fea"
      },
      "execution_count": 38,
      "outputs": [
        {
          "output_type": "stream",
          "name": "stdout",
          "text": [
            "['new', 'company', 'the', 'same', 'time']\n"
          ]
        }
      ]
    },
    {
      "cell_type": "code",
      "source": [
        "## 37.\n",
        "\n",
        "input=\"like to be the same\"\n",
        "print(predict_next_word(input, 5))\n",
        "\n",
        "# predicted sentence: \"Good morning I would like to be same as\" "
      ],
      "metadata": {
        "colab": {
          "base_uri": "https://localhost:8080/"
        },
        "id": "0hVsRj9J5AwP",
        "outputId": "315166cf-c2d1-4715-90e9-64c94f0416b3"
      },
      "execution_count": 39,
      "outputs": [
        {
          "output_type": "stream",
          "name": "stdout",
          "text": [
            "['time', 'as', 'for', 'I', 'to']\n"
          ]
        }
      ]
    },
    {
      "cell_type": "code",
      "source": [],
      "metadata": {
        "id": "32V_dfiq5Cxu"
      },
      "execution_count": null,
      "outputs": []
    }
  ]
}